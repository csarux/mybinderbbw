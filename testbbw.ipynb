{
 "cells": [
  {
   "cell_type": "code",
   "execution_count": 1,
   "id": "888f5086-0fb9-4c8b-9621-cf7d3f26c38a",
   "metadata": {},
   "outputs": [],
   "source": [
    "from jupyter_bbox_widget import BBoxWidget"
   ]
  },
  {
   "cell_type": "code",
   "execution_count": 2,
   "id": "15a46081-08f4-42b9-8323-19795c3a632d",
   "metadata": {},
   "outputs": [
    {
     "data": {
      "application/vnd.jupyter.widget-view+json": {
       "model_id": "9a0f867d3df84ee1af8e534106c5e522",
       "version_major": 2,
       "version_minor": 0
      },
      "text/plain": [
       "BBoxWidget(classes=['Film', 'Calibration', 'Background', 'Center'], colors=['#1f77b4', '#ff7f0e', '#2ca02c', '…"
      ]
     },
     "execution_count": 2,
     "metadata": {},
     "output_type": "execute_result"
    }
   ],
   "source": [
    "widget = BBoxWidget(\n",
    "    image='Film.png',\n",
    "    classes=['Film', 'Calibration', 'Background', 'Center'],\n",
    ")\n",
    "widget"
   ]
  },
  {
   "cell_type": "code",
   "execution_count": null,
   "id": "f757522b-cfef-4d0e-ac36-06e76105e7e5",
   "metadata": {},
   "outputs": [],
   "source": []
  }
 ],
 "metadata": {
  "kernelspec": {
   "display_name": "Python 3 (ipykernel)",
   "language": "python",
   "name": "python3"
  },
  "language_info": {
   "codemirror_mode": {
    "name": "ipython",
    "version": 3
   },
   "file_extension": ".py",
   "mimetype": "text/x-python",
   "name": "python",
   "nbconvert_exporter": "python",
   "pygments_lexer": "ipython3",
   "version": "3.9.6"
  }
 },
 "nbformat": 4,
 "nbformat_minor": 5
}
